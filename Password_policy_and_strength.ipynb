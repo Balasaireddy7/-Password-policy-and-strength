{
  "nbformat": 4,
  "nbformat_minor": 0,
  "metadata": {
    "colab": {
      "provenance": []
    },
    "kernelspec": {
      "name": "python3",
      "display_name": "Python 3"
    },
    "language_info": {
      "name": "python"
    }
  },
  "cells": [
    {
      "cell_type": "code",
      "execution_count": null,
      "metadata": {
        "colab": {
          "base_uri": "https://localhost:8080/"
        },
        "id": "kBNoGRZLAwXP",
        "outputId": "69f625ba-a8aa-4958-b005-6fa37f9cb32a"
      },
      "outputs": [
        {
          "output_type": "stream",
          "name": "stdout",
          "text": [
            "AAff@@123\n",
            "Accepatance:True\n",
            "Password strength:Strong\n"
          ]
        }
      ],
      "source": [
        "def Password_policy(st,flag): # function for password checking with two arguments\n",
        "  s=\"\"\n",
        "  if len(st)<8 or len(st)>14: #checking the length of the input wheather lesser than 6 and greater then 14\n",
        "    s='Weak' # if cond is true the it wil weak\n",
        "    # checking the cond that give in the problem statement weather given password are in input for that i stored the password in list in error var\n",
        "  error=[\"password\",\"12345\",\" qwerty\", \"admin\", \"username\"]\n",
        "  for i in error: #checking the input in error list\n",
        "    if i in st:\n",
        "      s=\"Weak\" # if satisfy then weak\n",
        "  else: # in the else part here strength of the password will be checken\n",
        "    up_case=0\n",
        "    lo_case=0\n",
        "    nu_case=0\n",
        "    sp_case=0\n",
        "    for i in st:\n",
        "      if i.isdigit(): # checking the digits and increatmenting the count\n",
        "        nu_case+=1\n",
        "      elif i.isupper():#checking the upper_case letters and increatmenting the count\n",
        "        up_case+=1\n",
        "      elif i.islower():#checking the lower_case letters and increatmenting the count\n",
        "        lo_case+=1\n",
        "      else: # if above cond are not satisfy then spl char are there then increatmenting the count\n",
        "        sp_case+=1\n",
        "    if up_case>=2 and lo_case>=2 and nu_case>=2 and sp_case>=2: #checking for strong password weather it is strong or not\n",
        "      s=\"Strong\"\n",
        "      flag=True\n",
        "    elif up_case>=1 and lo_case>=1 and nu_case>=1 and sp_case>=1: # if above cond doesn't satisfy then it will check for weather it is high or not\n",
        "      if (lo_case+up_case+nu_case+sp_case)>=6: # if above cond true then it will sum it up all the cases then check weather >=6 or not\n",
        "          s=\"High\"\n",
        "          flaag=True\n",
        "      else: # if else if cond false then it will assigned as Moderate\n",
        "        s=\"Moderate\"\n",
        "    else:# if the whole if cond is false then it will be weak\n",
        "      s=\"Weak\"\n",
        "  print(f\"Accepatance:{flag}\")\n",
        "  print(f\"Password strength:{s}\")\n",
        "\n",
        "Password=input() #taking the input from the user\n",
        "flag=False\n",
        "Password_policy(Password,flag) #calling the fucntion with the input of password and flag which is boolean tag for checking acceptance of password)\n"
      ]
    }
  ]
}